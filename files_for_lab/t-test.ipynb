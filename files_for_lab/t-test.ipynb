{
 "cells": [
  {
   "cell_type": "markdown",
   "metadata": {},
   "source": [
    "#  T-tests and P-values\n",
    "\n",
    "In statistics, t-test is used to test if two data samples have a significant difference between their means. There are two types of t-test:\n",
    "\n",
    "* **Student's t-test** (a.k.a. independent or uncorrelated t-test). This type of t-test is to compare the samples of **two independent populations** (e.g. test scores of students in two different classes). `scipy` provides the [`ttest_ind`](https://docs.scipy.org/doc/scipy-0.15.1/reference/generated/scipy.stats.ttest_ind.html) method to conduct student's t-test.\n",
    "\n",
    "* **Paired t-test** (a.k.a. dependent or correlated t-test). This type of t-test is to compare the samples of **the same population** (e.g. scores of different tests of students in the same class). `scipy` provides the [`ttest_rel`](https://docs.scipy.org/doc/scipy-0.15.1/reference/generated/scipy.stats.ttest_rel.html) method to conduct paired t-test.\n",
    "\n",
    "Both types of t-tests return a number which is called the **p-value**. If p-value is below 0.05, we can confidently declare the null-hypothesis is rejected and the difference is significant. If p-value is between 0.05 and 0.1, we may also declare the null-hypothesis is rejected but we are not highly confident. If p-value is above 0.1 we do not reject the null-hypothesis.\n",
    "\n",
    "Read more about the t-test in [this article](http://b.link/test50) and [this Quora](http://b.link/unpaired97). Make sure you understand when to use which type of t-test. "
   ]
  },
  {
   "cell_type": "code",
   "execution_count": 126,
   "metadata": {},
   "outputs": [],
   "source": [
    "# Import libraries\n",
    "import pandas as pd\n",
    "import numpy as np\n",
    "import scipy.stats as st\n",
    "import matplotlib.pyplot as plt\n",
    "import seaborn as sns"
   ]
  },
  {
   "cell_type": "markdown",
   "metadata": {},
   "source": [
    "### One tailed t-test \n",
    "In a packing plant, a machine packs cartons with jars. It is supposed that a new machine will pack faster on the average than the machine currently used. To test that hypothesis, the times it takes each machine to pack ten cartons are recorded. The results, in seconds, are shown in the tables in the file files_for_lab/ttest_machine.xlsx. Assume that there is sufficient evidence to conduct the t test, does the data provide sufficient evidence to show if one machine is better than the other?"
   ]
  },
  {
   "cell_type": "markdown",
   "metadata": {},
   "source": [
    "#### Import dataset"
   ]
  },
  {
   "cell_type": "code",
   "execution_count": 127,
   "metadata": {},
   "outputs": [
    {
     "data": {
      "text/html": [
       "<div>\n",
       "<style scoped>\n",
       "    .dataframe tbody tr th:only-of-type {\n",
       "        vertical-align: middle;\n",
       "    }\n",
       "\n",
       "    .dataframe tbody tr th {\n",
       "        vertical-align: top;\n",
       "    }\n",
       "\n",
       "    .dataframe thead th {\n",
       "        text-align: right;\n",
       "    }\n",
       "</style>\n",
       "<table border=\"1\" class=\"dataframe\">\n",
       "  <thead>\n",
       "    <tr style=\"text-align: right;\">\n",
       "      <th></th>\n",
       "      <th>New_machine</th>\n",
       "      <th>Old_machine</th>\n",
       "    </tr>\n",
       "  </thead>\n",
       "  <tbody>\n",
       "    <tr>\n",
       "      <th>0</th>\n",
       "      <td>42.1</td>\n",
       "      <td>42.7</td>\n",
       "    </tr>\n",
       "    <tr>\n",
       "      <th>1</th>\n",
       "      <td>41.0</td>\n",
       "      <td>43.6</td>\n",
       "    </tr>\n",
       "    <tr>\n",
       "      <th>2</th>\n",
       "      <td>41.3</td>\n",
       "      <td>43.8</td>\n",
       "    </tr>\n",
       "    <tr>\n",
       "      <th>3</th>\n",
       "      <td>41.8</td>\n",
       "      <td>43.3</td>\n",
       "    </tr>\n",
       "    <tr>\n",
       "      <th>4</th>\n",
       "      <td>42.4</td>\n",
       "      <td>42.5</td>\n",
       "    </tr>\n",
       "  </tbody>\n",
       "</table>\n",
       "</div>"
      ],
      "text/plain": [
       "   New_machine  Old_machine\n",
       "0         42.1         42.7\n",
       "1         41.0         43.6\n",
       "2         41.3         43.8\n",
       "3         41.8         43.3\n",
       "4         42.4         42.5"
      ]
     },
     "execution_count": 127,
     "metadata": {},
     "output_type": "execute_result"
    }
   ],
   "source": [
    "# Your code here:\n",
    "machine = pd.read_csv('ttest_machine.txt', sep=\" \")\n",
    "machine.head()"
   ]
  },
  {
   "cell_type": "code",
   "execution_count": 128,
   "metadata": {},
   "outputs": [],
   "source": [
    "# H0: time for both machines to pack ten cartons is equal, difference = 0\n",
    "# H1: time for both machines to pack ten cartons is NOT equal, difference <> 0\n",
    "\n",
    "#we use the \"pooled samples / independent samples\"-test\n",
    "stat, pval = st.ttest_ind(machine['New_machine'], machine['Old_machine'], equal_var=False)\n",
    "\n",
    "# p is very low, we can reject that they are equal., statistic is negative this means (1) \"after\" is lower than (2) \"before\""
   ]
  },
  {
   "cell_type": "code",
   "execution_count": 129,
   "metadata": {},
   "outputs": [
    {
     "name": "stdout",
     "output_type": "stream",
     "text": [
      "p_value: 0.00324224946631798 < 0.05, we can confidently declare the H0 is rejected and the difference is significant.\n",
      "stat: -3.3972307061176026 is negative. This means the first group tested is smaller than the second group tested.\n"
     ]
    }
   ],
   "source": [
    "# If p-value is below 0.05, we can confidently declare the null-hypothesis \n",
    "# is rejected and the difference is significant. If p-value is between 0.05 \n",
    "# and 0.1, we may also declare the null-hypothesis is rejected but we are not \n",
    "# highly confident. If p-value is above 0.1 we do not reject the null-hypothesis.\n",
    "\n",
    "if pval < 0.05:\n",
    "   print (\"p_value:\", pval, \"< 0.05, we can confidently declare the H0 is rejected and the difference is significant.\")\n",
    "elif 0.05 <= pval < 0.1:\n",
    "   print (\"p_value: 0.05 <=\", pval, \"< 0.1, we may declare H0 is rejected but we are not highly confident\")\n",
    "else:\n",
    "   print (\"p_value:\", pval, \"> 0.1 we do not reject H0.\")\n",
    "\n",
    "if stat < 0:\n",
    "   print (\"stat:\", stat, \"is negative. This means the first group tested is smaller than the second group tested.\")\n",
    "else:\n",
    "   print (\"stat:\", stat, \"is positive. This means the first group tested is bigger than the second group tested.\")"
   ]
  },
  {
   "attachments": {},
   "cell_type": "markdown",
   "metadata": {},
   "source": [
    "we can reject H0 and the stat value tells us that the new machine is faster than the new one."
   ]
  },
  {
   "cell_type": "markdown",
   "metadata": {},
   "source": [
    "#### Import dataset\n",
    "\n",
    "In this challenge we will work on the Pokemon dataset you have already used. The goal is to test whether different groups of pokemon (e.g. Legendary vs Normal, Generation 1 vs 2, single-type vs dual-type) have different stats (e.g. HP, Attack, Defense, etc.). Use pokemon.csv"
   ]
  },
  {
   "cell_type": "code",
   "execution_count": 130,
   "metadata": {},
   "outputs": [
    {
     "data": {
      "text/html": [
       "<div>\n",
       "<style scoped>\n",
       "    .dataframe tbody tr th:only-of-type {\n",
       "        vertical-align: middle;\n",
       "    }\n",
       "\n",
       "    .dataframe tbody tr th {\n",
       "        vertical-align: top;\n",
       "    }\n",
       "\n",
       "    .dataframe thead th {\n",
       "        text-align: right;\n",
       "    }\n",
       "</style>\n",
       "<table border=\"1\" class=\"dataframe\">\n",
       "  <thead>\n",
       "    <tr style=\"text-align: right;\">\n",
       "      <th></th>\n",
       "      <th>#</th>\n",
       "      <th>Name</th>\n",
       "      <th>Type 1</th>\n",
       "      <th>Type 2</th>\n",
       "      <th>Total</th>\n",
       "      <th>HP</th>\n",
       "      <th>Attack</th>\n",
       "      <th>Defense</th>\n",
       "      <th>Sp. Atk</th>\n",
       "      <th>Sp. Def</th>\n",
       "      <th>Speed</th>\n",
       "      <th>Generation</th>\n",
       "      <th>Legendary</th>\n",
       "    </tr>\n",
       "  </thead>\n",
       "  <tbody>\n",
       "    <tr>\n",
       "      <th>0</th>\n",
       "      <td>1</td>\n",
       "      <td>Bulbasaur</td>\n",
       "      <td>Grass</td>\n",
       "      <td>Poison</td>\n",
       "      <td>318</td>\n",
       "      <td>45</td>\n",
       "      <td>49</td>\n",
       "      <td>49</td>\n",
       "      <td>65</td>\n",
       "      <td>65</td>\n",
       "      <td>45</td>\n",
       "      <td>1</td>\n",
       "      <td>False</td>\n",
       "    </tr>\n",
       "    <tr>\n",
       "      <th>1</th>\n",
       "      <td>2</td>\n",
       "      <td>Ivysaur</td>\n",
       "      <td>Grass</td>\n",
       "      <td>Poison</td>\n",
       "      <td>405</td>\n",
       "      <td>60</td>\n",
       "      <td>62</td>\n",
       "      <td>63</td>\n",
       "      <td>80</td>\n",
       "      <td>80</td>\n",
       "      <td>60</td>\n",
       "      <td>1</td>\n",
       "      <td>False</td>\n",
       "    </tr>\n",
       "    <tr>\n",
       "      <th>2</th>\n",
       "      <td>3</td>\n",
       "      <td>Venusaur</td>\n",
       "      <td>Grass</td>\n",
       "      <td>Poison</td>\n",
       "      <td>525</td>\n",
       "      <td>80</td>\n",
       "      <td>82</td>\n",
       "      <td>83</td>\n",
       "      <td>100</td>\n",
       "      <td>100</td>\n",
       "      <td>80</td>\n",
       "      <td>1</td>\n",
       "      <td>False</td>\n",
       "    </tr>\n",
       "    <tr>\n",
       "      <th>3</th>\n",
       "      <td>3</td>\n",
       "      <td>VenusaurMega Venusaur</td>\n",
       "      <td>Grass</td>\n",
       "      <td>Poison</td>\n",
       "      <td>625</td>\n",
       "      <td>80</td>\n",
       "      <td>100</td>\n",
       "      <td>123</td>\n",
       "      <td>122</td>\n",
       "      <td>120</td>\n",
       "      <td>80</td>\n",
       "      <td>1</td>\n",
       "      <td>False</td>\n",
       "    </tr>\n",
       "    <tr>\n",
       "      <th>4</th>\n",
       "      <td>4</td>\n",
       "      <td>Charmander</td>\n",
       "      <td>Fire</td>\n",
       "      <td>NaN</td>\n",
       "      <td>309</td>\n",
       "      <td>39</td>\n",
       "      <td>52</td>\n",
       "      <td>43</td>\n",
       "      <td>60</td>\n",
       "      <td>50</td>\n",
       "      <td>65</td>\n",
       "      <td>1</td>\n",
       "      <td>False</td>\n",
       "    </tr>\n",
       "  </tbody>\n",
       "</table>\n",
       "</div>"
      ],
      "text/plain": [
       "   #                   Name Type 1  Type 2  Total  HP  Attack  Defense  \\\n",
       "0  1              Bulbasaur  Grass  Poison    318  45      49       49   \n",
       "1  2                Ivysaur  Grass  Poison    405  60      62       63   \n",
       "2  3               Venusaur  Grass  Poison    525  80      82       83   \n",
       "3  3  VenusaurMega Venusaur  Grass  Poison    625  80     100      123   \n",
       "4  4             Charmander   Fire     NaN    309  39      52       43   \n",
       "\n",
       "   Sp. Atk  Sp. Def  Speed  Generation  Legendary  \n",
       "0       65       65     45           1      False  \n",
       "1       80       80     60           1      False  \n",
       "2      100      100     80           1      False  \n",
       "3      122      120     80           1      False  \n",
       "4       60       50     65           1      False  "
      ]
     },
     "execution_count": 130,
     "metadata": {},
     "output_type": "execute_result"
    }
   ],
   "source": [
    "# Your code here:\n",
    "pokemon = pd.read_csv('pokemon.txt')\n",
    "pokemon.head()"
   ]
  },
  {
   "cell_type": "markdown",
   "metadata": {},
   "source": [
    "#### First we want to define a function with which we can test the means of a feature set of two samples. \n",
    "\n",
    "In the next cell you'll see the annotations of the Python function that explains what this function does and its arguments and returned value. This type of annotation is called **docstring** which is a convention used among Python developers. The docstring convention allows developers to write consistent tech documentations for their codes so that others can read. It also allows some websites to automatically parse the docstrings and display user-friendly documentations.\n",
    "\n",
    "Follow the specifications of the docstring and complete the function."
   ]
  },
  {
   "cell_type": "code",
   "execution_count": 131,
   "metadata": {},
   "outputs": [],
   "source": [
    "def t_test_features(s1, s2, features):\n",
    "    #features =['HP', 'Attack', 'Defense', 'Sp. Atk', 'Sp. Def', 'Speed', 'Total'])\n",
    "    \"\"\"Test means of a feature set of two samples\n",
    "    \n",
    "    # Args:\n",
    "    #     s1 (dataframe): sample 1\n",
    "    #     s2 (dataframe): sample 2\n",
    "    #     features (list): an array of features to test\n",
    "    \n",
    "    Returns:\n",
    "        dict: a dictionary of t-test scores for each feature where the feature name is the key and the p-value is the value\n",
    "    \"\"\"\n",
    "    results = {}\n",
    "\n",
    "    # Your code here\n",
    "\n",
    "    for feature in features:\n",
    "        stat, pval = st.ttest_ind(s1[feature], s2[feature])\n",
    "        results.update( {feature : pval} )\n",
    "    \n",
    "    return results"
   ]
  },
  {
   "attachments": {},
   "cell_type": "markdown",
   "metadata": {},
   "source": [
    "#### Using the `t_test_features` function, conduct t-test for Legendary vs non-Legendary pokemons.\n",
    "\n",
    "*Hint: your output should look like below:*\n",
    "\n",
    "```\n",
    "{'HP': 1.0026911708035284e-13,\n",
    " 'Attack': 2.520372449236646e-16,\n",
    " 'Defense': 4.8269984949193316e-11,\n",
    " 'Sp. Atk': 1.5514614112239812e-21,\n",
    " 'Sp. Def': 2.2949327864052826e-15,\n",
    " 'Speed': 1.049016311882451e-18,\n",
    " 'Total': 9.357954335957446e-47}\n",
    " ```"
   ]
  },
  {
   "cell_type": "code",
   "execution_count": 132,
   "metadata": {},
   "outputs": [],
   "source": [
    "# Your code here\n",
    "#def t_test_features(s1, s2, features=['HP', 'Attack', 'Defense', 'Sp. Atk', 'Sp. Def', 'Speed', 'Total'])\n",
    "\n",
    "pokemon_legendary = pokemon[pokemon['Legendary']==True]\n",
    "pokemon_non_legendary = pokemon[pokemon['Legendary']==False]\n",
    "\n",
    "features=['HP', 'Attack', 'Defense', 'Sp. Atk', 'Sp. Def', 'Speed', 'Total']"
   ]
  },
  {
   "cell_type": "code",
   "execution_count": 133,
   "metadata": {},
   "outputs": [
    {
     "data": {
      "text/plain": [
       "(65, 13)"
      ]
     },
     "metadata": {},
     "output_type": "display_data"
    },
    {
     "data": {
      "text/plain": [
       "(735, 13)"
      ]
     },
     "metadata": {},
     "output_type": "display_data"
    }
   ],
   "source": [
    "display(pokemon_legendary.shape)\n",
    "display(pokemon_non_legendary.shape)"
   ]
  },
  {
   "cell_type": "code",
   "execution_count": 134,
   "metadata": {},
   "outputs": [],
   "source": [
    "results_leg =t_test_features(pokemon_legendary.sample(65), pokemon_non_legendary.sample(65), features)"
   ]
  },
  {
   "cell_type": "markdown",
   "metadata": {},
   "source": [
    "#### From the test results above, what conclusion can you make? Do Legendary and non-Legendary pokemons have significantly different stats on each feature?"
   ]
  },
  {
   "cell_type": "code",
   "execution_count": 135,
   "metadata": {},
   "outputs": [
    {
     "name": "stdout",
     "output_type": "stream",
     "text": [
      "p_value for HP : 1.9605531004918647e-16 < 0.05, we can confidently declare the H0 is rejected and the difference is significant.\n",
      "p_value for Attack : 2.227800835459481e-16 < 0.05, we can confidently declare the H0 is rejected and the difference is significant.\n",
      "p_value for Defense : 2.763383234989473e-07 < 0.05, we can confidently declare the H0 is rejected and the difference is significant.\n",
      "p_value for Sp. Atk : 7.333000851718381e-19 < 0.05, we can confidently declare the H0 is rejected and the difference is significant.\n",
      "p_value for Sp. Def : 5.77621763233641e-12 < 0.05, we can confidently declare the H0 is rejected and the difference is significant.\n",
      "p_value for Speed : 1.5341754159736362e-09 < 0.05, we can confidently declare the H0 is rejected and the difference is significant.\n",
      "p_value for Total : 9.401117442094195e-32 < 0.05, we can confidently declare the H0 is rejected and the difference is significant.\n"
     ]
    }
   ],
   "source": [
    "# Your comment here\n",
    "\n",
    "# the p-value are very low for every feature, this means we would have to reject H0 stating,\n",
    "# that the feature between legendary and non-legendary pokemons are equal.\n",
    "# the pokemons have significantly differenct stats on each feature.\n",
    "\n",
    "for key, value in results_leg.items():\n",
    "    if value < 0.05:\n",
    "        print (\"p_value for\",key, \":\", value, \"< 0.05, we can confidently declare the H0 is rejected and the difference is significant.\")\n",
    "    elif 0.05 <= value < 0.1:\n",
    "        print (\"p_value for\",key, \": 0.05 <=\", value, \"< 0.1, we may declare H0 is rejected but we are not highly confident\")\n",
    "    else:\n",
    "        print (\"p_value for\",key, \": 0.1 <\", value, \" we do not reject H0.\")"
   ]
  },
  {
   "cell_type": "markdown",
   "metadata": {},
   "source": [
    "#### Next, conduct t-test for Generation 1 and Generation 2 pokemons."
   ]
  },
  {
   "cell_type": "code",
   "execution_count": 136,
   "metadata": {},
   "outputs": [
    {
     "data": {
      "text/plain": [
       "(166, 13)"
      ]
     },
     "metadata": {},
     "output_type": "display_data"
    },
    {
     "data": {
      "text/plain": [
       "(106, 13)"
      ]
     },
     "metadata": {},
     "output_type": "display_data"
    }
   ],
   "source": [
    "# Your code here\n",
    "\n",
    "pokemon_Gen_1 = pokemon[pokemon['Generation']==1]\n",
    "display(pokemon_Gen_1.shape)\n",
    "pokemon_Gen_2 = pokemon[pokemon['Generation']==2]\n",
    "display(pokemon_Gen_2.shape)"
   ]
  },
  {
   "cell_type": "code",
   "execution_count": 137,
   "metadata": {},
   "outputs": [],
   "source": [
    "results_gen = t_test_features(pokemon_Gen_1.sample(106), pokemon_Gen_2.sample(106), features)"
   ]
  },
  {
   "cell_type": "markdown",
   "metadata": {},
   "source": [
    "#### What conclusions can you make?"
   ]
  },
  {
   "cell_type": "code",
   "execution_count": 138,
   "metadata": {},
   "outputs": [
    {
     "name": "stdout",
     "output_type": "stream",
     "text": [
      "p_value for HP : 0.05 <= 0.07340023002245609 < 0.1, we may declare H0 is rejected but we are not highly confident\n",
      "p_value for Attack : 0.1 < 0.5212822246101673  we do not reject H0.\n",
      "p_value for Defense : 0.1 < 0.20276790172811363  we do not reject H0.\n",
      "p_value for Sp. Atk : 0.1 < 0.40942627137034426  we do not reject H0.\n",
      "p_value for Sp. Def : 0.1 < 0.3618023750123891  we do not reject H0.\n",
      "p_value for Speed : 0.0008191313075754455 < 0.05, we can confidently declare the H0 is rejected and the difference is significant.\n",
      "p_value for Total : 0.1 < 0.8631134115350635  we do not reject H0.\n"
     ]
    }
   ],
   "source": [
    "# Your comment here\n",
    "for key, value in results_gen.items():\n",
    "    if value < 0.05:\n",
    "        print (\"p_value for\",key, \":\", value, \"< 0.05, we can confidently declare the H0 is rejected and the difference is significant.\")\n",
    "    elif 0.05 <= value < 0.1:\n",
    "        print (\"p_value for\",key, \": 0.05 <=\", value, \"< 0.1, we may declare H0 is rejected but we are not highly confident\")\n",
    "    else:\n",
    "        print (\"p_value for\",key, \": 0.1 <\", value, \" we do not reject H0.\")"
   ]
  },
  {
   "cell_type": "markdown",
   "metadata": {},
   "source": [
    "#### Compare pokemons who have single type vs those having two types."
   ]
  },
  {
   "cell_type": "code",
   "execution_count": 139,
   "metadata": {},
   "outputs": [
    {
     "data": {
      "text/plain": [
       "(414, 13)"
      ]
     },
     "metadata": {},
     "output_type": "display_data"
    },
    {
     "data": {
      "text/plain": [
       "(386, 13)"
      ]
     },
     "metadata": {},
     "output_type": "display_data"
    }
   ],
   "source": [
    "# Your code here\n",
    "pokemon_1_Type = pokemon[(pokemon['Type 1'].notnull())&(pokemon['Type 2'].notnull())]\n",
    "display(pokemon_1_Type.shape)\n",
    "pokemon_2_Types = pokemon[(pokemon['Type 1'].notnull())&(pokemon['Type 2'].isnull())]\n",
    "display(pokemon_2_Types.shape)"
   ]
  },
  {
   "cell_type": "code",
   "execution_count": 140,
   "metadata": {},
   "outputs": [],
   "source": [
    "results_type1or2 = t_test_features(pokemon_1_Type.sample(386), pokemon_2_Types.sample(386), features)"
   ]
  },
  {
   "cell_type": "markdown",
   "metadata": {},
   "source": [
    "#### What conclusions can you make?"
   ]
  },
  {
   "cell_type": "code",
   "execution_count": 141,
   "metadata": {},
   "outputs": [
    {
     "name": "stdout",
     "output_type": "stream",
     "text": [
      "p_value for HP : 0.05 <= 0.09173852842543423 < 0.1, we may declare H0 is rejected but we are not highly confident\n",
      "p_value for Attack : 9.197067729832727e-05 < 0.05, we can confidently declare the H0 is rejected and the difference is significant.\n",
      "p_value for Defense : 1.969421563152216e-08 < 0.05, we can confidently declare the H0 is rejected and the difference is significant.\n",
      "p_value for Sp. Atk : 0.000361746004729679 < 0.05, we can confidently declare the H0 is rejected and the difference is significant.\n",
      "p_value for Sp. Def : 0.00030577425560150603 < 0.05, we can confidently declare the H0 is rejected and the difference is significant.\n",
      "p_value for Speed : 0.016435458725015648 < 0.05, we can confidently declare the H0 is rejected and the difference is significant.\n",
      "p_value for Total : 1.2325202242850208e-07 < 0.05, we can confidently declare the H0 is rejected and the difference is significant.\n"
     ]
    }
   ],
   "source": [
    "# Your comment here\n",
    "\n",
    "for key, value in results_type1or2.items():\n",
    "    if value < 0.05:\n",
    "        print (\"p_value for\",key, \":\", value, \"< 0.05, we can confidently declare the H0 is rejected and the difference is significant.\")\n",
    "    elif 0.05 <= value < 0.1:\n",
    "        print (\"p_value for\",key, \": 0.05 <=\", value, \"< 0.1, we may declare H0 is rejected but we are not highly confident\")\n",
    "    else:\n",
    "        print (\"p_value for\",key, \": 0.1 <\", value, \" we do not reject H0.\")"
   ]
  },
  {
   "cell_type": "markdown",
   "metadata": {},
   "source": [
    "#### Now, we want to compare whether there are significant differences of `Attack` vs `Defense`  and  `Sp. Atk` vs `Sp. Def` of all pokemons. Please write your code below.\n",
    "\n",
    "*Hint: are you comparing different populations or the same population?*"
   ]
  },
  {
   "cell_type": "code",
   "execution_count": 142,
   "metadata": {},
   "outputs": [
    {
     "name": "stdout",
     "output_type": "stream",
     "text": [
      "p_value: 1.7140303479358558e-05 < 0.05, we can confidently declare the H0 is rejected and the difference is significant.\n"
     ]
    }
   ],
   "source": [
    "# Your code here\n",
    "# Attack vs. Defense\n",
    "stat, pval = st.ttest_rel(pokemon['Attack'], pokemon['Defense'])\n",
    "\n",
    "if pval < 0.05:\n",
    "   print (\"p_value:\", pval, \"< 0.05, we can confidently declare the H0 is rejected and the difference is significant.\")\n",
    "elif 0.05 <= pval < 0.1:\n",
    "   print (\"p_value: 0.05 <=\", pval, \"< 0.1, we may declare H0 is rejected but we are not highly confident\")\n",
    "else:\n",
    "   print (\"p_value:\", pval, \"> 0.1 we do not reject H0.\")\n"
   ]
  },
  {
   "cell_type": "code",
   "execution_count": 143,
   "metadata": {},
   "outputs": [
    {
     "name": "stdout",
     "output_type": "stream",
     "text": [
      "p_value: 0.3933685997548122 > 0.1 we do not reject H0.\n"
     ]
    }
   ],
   "source": [
    "# Your code here\n",
    "# Sp. Atk vs. Sp. Def\n",
    "stat, pval = st.ttest_rel(pokemon['Sp. Atk'], pokemon['Sp. Def'])\n",
    "\n",
    "if pval < 0.05:\n",
    "   print (\"p_value:\", pval, \"< 0.05, we can confidently declare the H0 is rejected and the difference is significant.\")\n",
    "elif 0.05 <= pval < 0.1:\n",
    "   print (\"p_value: 0.05 <=\", pval, \"< 0.1, we may declare H0 is rejected but we are not highly confident\")\n",
    "else:\n",
    "   print (\"p_value:\", pval, \"> 0.1 we do not reject H0.\")\n"
   ]
  },
  {
   "cell_type": "markdown",
   "metadata": {},
   "source": [
    "#### What conclusions can you make?"
   ]
  },
  {
   "cell_type": "code",
   "execution_count": 144,
   "metadata": {},
   "outputs": [],
   "source": [
    "# Your comment here\n",
    "\n",
    "# Attack vs. Defense: we can confidently declare the H0 (no significant differences) is rejected and the difference is significant.\n",
    "# Sp. Atk vs. Sp. Def: we do not reject H0. There are no significant differences."
   ]
  },
  {
   "cell_type": "code",
   "execution_count": null,
   "metadata": {},
   "outputs": [],
   "source": []
  }
 ],
 "metadata": {
  "kernelspec": {
   "display_name": "base",
   "language": "python",
   "name": "python3"
  },
  "language_info": {
   "codemirror_mode": {
    "name": "ipython",
    "version": 3
   },
   "file_extension": ".py",
   "mimetype": "text/x-python",
   "name": "python",
   "nbconvert_exporter": "python",
   "pygments_lexer": "ipython3",
   "version": "3.9.13"
  },
  "vscode": {
   "interpreter": {
    "hash": "b01aa82c089d46d4ceb89fb7ffd57daafa20ba13648cb1fb6af42a5f23defc8e"
   }
  }
 },
 "nbformat": 4,
 "nbformat_minor": 2
}
